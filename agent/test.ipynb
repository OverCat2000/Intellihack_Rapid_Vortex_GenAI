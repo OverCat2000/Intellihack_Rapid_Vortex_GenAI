{
 "cells": [
  {
   "cell_type": "code",
   "execution_count": 23,
   "metadata": {},
   "outputs": [],
   "source": [
    "import os\n",
    "from dotenv import load_dotenv\n",
    "\n",
    "load_dotenv()\n",
    "\n",
    "os.environ[\"OPENAI_API_KEY\"] = os.getenv(\"OPENAI_API_KEY\")\n",
    "os.environ[\"LANGCHAIN_TRACING_V2\"] = os.getenv(\"LANGCHAIN_TRACING_V2\")\n",
    "os.environ[\"LANGCHAIN_API_KEY\"] = os.getenv(\"LANGCHAIN_API_KEY\")\n",
    "os.environ[\"LANGCHAIN_PROJECT\"] = os.getenv(\"LANGCHAIN_PROJECT\")"
   ]
  },
  {
   "cell_type": "code",
   "execution_count": 29,
   "metadata": {},
   "outputs": [],
   "source": [
    "from langchain_openai import ChatOpenAI\n",
    "\n",
    "llm = ChatOpenAI(model=\"gpt-3.5-turbo-0125\")"
   ]
  },
  {
   "cell_type": "code",
   "execution_count": 40,
   "metadata": {},
   "outputs": [],
   "source": [
    "from langchain.prompts import PromptTemplate\n",
    "\n",
    "from langchain_core.output_parsers import StrOutputParser\n",
    "\n",
    "\n",
    "prompt = PromptTemplate(\n",
    "    template=\"\"\"<|begin_of_text|><|start_header_id|>system<|end_header_id|>\n",
    "    You are an English spelling and grammar checking agent. You are a master at identifying spelling and grammar mistakes in applicant resumes.\n",
    "\n",
    "     <|eot_id|><|start_header_id|>user<|end_header_id|>\n",
    "    Conduct a thorough analysis of the provided resume. \n",
    "    Identify spelling and grammar mistakes, and assign points based on the correctness of the resume. \n",
    "    The maximum score is 50 points, and the minimum score is 0.\n",
    "    Only give final score. No explanation needed!\n",
    "\n",
    "    RESUME CONTENT:\\n\\n {resume} \\n\\n\n",
    "    <|eot_id|>\n",
    "    <|start_header_id|>assistant<|end_header_id|>\n",
    "    \"\"\",\n",
    "    input_variables=[\"resume\"],\n",
    ")\n",
    "\n",
    "resume_grammer_checker = prompt | llm | StrOutputParser()\n",
    "\n"
   ]
  },
  {
   "cell_type": "code",
   "execution_count": 73,
   "metadata": {},
   "outputs": [],
   "source": [
    "from langchain_core.output_parsers import JsonOutputParser\n",
    "\n",
    "\n",
    "prompt = PromptTemplate(\n",
    "    template=\"\"\"<|begin_of_text|><|start_header_id|>system<|end_header_id|>\n",
    "    You are a Talent Acquisition agent. \n",
    "    You are an expert at identifying spelling and grammar mistakes, educational background and certifications, work experience and projects, technical skills and soft skills mentioned in applicant resumes.\n",
    "\n",
    "     <|eot_id|><|start_header_id|>user<|end_header_id|>\n",
    "    Conduct a thorough analysis of the provided resume against the given job description. Evaluate the resume using the following criteria and assign scores accordingly.\n",
    "\n",
    "    Criteria 01: Identify spelling and grammar mistakes, and assign points based on the correctness of the resume. The maximum score is 25 points, and the minimum score is 0.\n",
    "    Criteria 02: Identify the educational qualifications and certifications, then assign points based on how well these qualifications match the requirements specified in the job description. The maximum score is 150 points, and the minimum score is 0.\n",
    "    Criteria 03: Identify the work experience and projects, then assign points based on how well these work experience and projects match the requirements specified in the job description. The maximum score is 250 points, and the minimum score is 0.\n",
    "    Criteria 04: Identify technical skills, then assign points based on how well these technical skills match the requirements specified in the job description. The maximum score is 150 points, and the minimum score is 0.\n",
    "    Criteria 05: Identify soft skills, then assign points based on how well these soft skills match the requirements specified in the job description. The maximum score is 100 points, and the minimum score is 0.\n",
    "    \n",
    "    Return a JSON with keys as criteria numbers and values as scores, along with the total score under the key \"total\". No preamble or explanation needed.\n",
    "\n",
    "    RESUME CONTENT:\\n\\n {resume} \\n\\n\n",
    "    JOB DESCRIPTION:\\n\\n {job} \\n\\n\n",
    "    <|eot_id|>\n",
    "    <|start_header_id|>assistant<|end_header_id|>\n",
    "    \"\"\",\n",
    "    input_variables=[\"resume\", \"job\"],\n",
    ")\n",
    "\n",
    "resume_scorerer = prompt | llm | JsonOutputParser()"
   ]
  },
  {
   "cell_type": "code",
   "execution_count": 62,
   "metadata": {},
   "outputs": [],
   "source": [
    "from langchain_core.output_parsers import JsonOutputParser\n",
    "\n",
    "\n",
    "prompt = PromptTemplate(\n",
    "    template=\"\"\"<|begin_of_text|><|start_header_id|>system<|end_header_id|>\n",
    "    You are a Talent Acquisition agent. \n",
    "    You are an expert at identifying spelling and grammar mistakes, educational background and certifications, work experience and projects, technical skills and soft skills mentioned in applicant resumes.\n",
    "\n",
    "     <|eot_id|><|start_header_id|>user<|end_header_id|>\n",
    "    Conduct a thorough analysis of the provided resume against the given job description. Evaluate the resume and assign scores accordingly. The maximum score is 675 points, and the minimum score is 0.\n",
    "\n",
    "    \n",
    "    Only give final score. No explanation needed!\n",
    "    \n",
    "    RESUME CONTENT:\\n\\n {resume} \\n\\n\n",
    "    JOB DESCRIPTION:\\n\\n {job} \\n\\n\n",
    "    <|eot_id|>\n",
    "    <|start_header_id|>assistant<|end_header_id|>\n",
    "    \"\"\",\n",
    "    input_variables=[\"resume\", \"job\"],\n",
    ")\n",
    "\n",
    "resume_scorerer = prompt | llm | StrOutputParser()"
   ]
  },
  {
   "cell_type": "code",
   "execution_count": 74,
   "metadata": {},
   "outputs": [],
   "source": [
    "from langchain_community.document_loaders import PyPDFLoader\n",
    "\n",
    "resume_loader = PyPDFLoader(\"../data/pdf1.pdf\")\n",
    "sample_resume = resume_loader.load_and_split()\n",
    "\n",
    "job_loader = PyPDFLoader(\"../data/job.pdf\")\n",
    "sample_job = job_loader.load_and_split()"
   ]
  },
  {
   "cell_type": "code",
   "execution_count": 75,
   "metadata": {},
   "outputs": [
    {
     "name": "stdout",
     "output_type": "stream",
     "text": [
      "{'criteria 01': 10, 'criteria 02': 50, 'criteria 03': 150, 'criteria 04': 100, 'criteria 05': 70, 'total': 380}\n"
     ]
    }
   ],
   "source": [
    "result = resume_scorerer.invoke({\"resume\": sample_resume,\"job\":sample_job})\n",
    "\n",
    "print(result)"
   ]
  },
  {
   "cell_type": "code",
   "execution_count": null,
   "metadata": {},
   "outputs": [],
   "source": []
  },
  {
   "cell_type": "code",
   "execution_count": null,
   "metadata": {},
   "outputs": [],
   "source": []
  },
  {
   "cell_type": "code",
   "execution_count": null,
   "metadata": {},
   "outputs": [],
   "source": [
    "{'Criteria 01': 20, 'Criteria 02': 120, 'Criteria 03': 200, 'Criteria 04': 140, 'Criteria 05': 80, 'total': 560}i\n",
    "{'Criteria 01': 20, 'Criteria 02': 120, 'Criteria 03': 200, 'Criteria 04': 100, 'Criteria 05': 70, 'total': 510}k\n",
    "{'Criteria 01': 20, 'Criteria 02': 120, 'Criteria 03': 200, 'Criteria 04': 130, 'Criteria 05': 80, 'total': 550}s\n",
    "{'Criteria 01': 20, 'Criteria 02': 100, 'Criteria 03': 200, 'Criteria 04': 100, 'Criteria 05': 80, 'total': 500}r"
   ]
  }
 ],
 "metadata": {
  "kernelspec": {
   "display_name": "venv",
   "language": "python",
   "name": "python3"
  },
  "language_info": {
   "codemirror_mode": {
    "name": "ipython",
    "version": 3
   },
   "file_extension": ".py",
   "mimetype": "text/x-python",
   "name": "python",
   "nbconvert_exporter": "python",
   "pygments_lexer": "ipython3",
   "version": "3.12.3"
  }
 },
 "nbformat": 4,
 "nbformat_minor": 2
}
